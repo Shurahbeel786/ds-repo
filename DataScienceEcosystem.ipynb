{
 "cells": [
  {
   "cell_type": "markdown",
   "id": "e6703fab",
   "metadata": {},
   "source": [
    "# Data Science Tools and Ecosystem"
   ]
  },
  {
   "cell_type": "markdown",
   "id": "3407d74c",
   "metadata": {},
   "source": [
    "In this notebook, Data Science Tools and Ecosystem are summarized."
   ]
  },
  {
   "cell_type": "markdown",
   "id": "cbce6762",
   "metadata": {},
   "source": [
    "Some of the popular languages that Data Scientists use are:"
   ]
  },
  {
   "cell_type": "markdown",
   "id": "f1455b3d",
   "metadata": {},
   "source": [
    "**Objectives:**\n",
    "    \n",
    "* Python\n",
    "* R Language\n",
    "* SQL\n",
    "* Scala\n",
    "* JAVA"
   ]
  },
  {
   "cell_type": "markdown",
   "id": "04787a66",
   "metadata": {},
   "source": [
    "* Python\n",
    "* R Language\n",
    "* SQL"
   ]
  },
  {
   "cell_type": "markdown",
   "id": "54c4d406",
   "metadata": {},
   "source": [
    "Some of the commonly used libraries used by Data Scientists include:"
   ]
  },
  {
   "cell_type": "markdown",
   "id": "ec8250ba",
   "metadata": {},
   "source": [
    "ordered list \n",
    "+ TensorFlow\n",
    "+ NumPy\n",
    "+ SciPy\n",
    "+ Pandas"
   ]
  },
  {
   "cell_type": "markdown",
   "id": "262ae0ab",
   "metadata": {},
   "source": [
    "|Data Science Tools|\n",
    "|------------------|\n",
    "|Tensor Flow|\n",
    "|Apache Hadoop|\n",
    "|NumPy|\n",
    "|SciPy|"
   ]
  },
  {
   "cell_type": "markdown",
   "id": "41335a9e",
   "metadata": {},
   "source": [
    "### Below are a few examples of evaluating arithmetic expressions in Python"
   ]
  },
  {
   "cell_type": "code",
   "execution_count": 4,
   "id": "5d430773",
   "metadata": {},
   "outputs": [
    {
     "data": {
      "text/plain": [
       "17"
      ]
     },
     "execution_count": 4,
     "metadata": {},
     "output_type": "execute_result"
    }
   ],
   "source": [
    "#This a simple arithmetic expression to mutiply then add integers\n",
    "\n",
    "(3*4)+5"
   ]
  },
  {
   "cell_type": "code",
   "execution_count": 9,
   "id": "75525797",
   "metadata": {},
   "outputs": [
    {
     "data": {
      "text/plain": [
       "3.3333333333333335"
      ]
     },
     "execution_count": 9,
     "metadata": {},
     "output_type": "execute_result"
    }
   ],
   "source": [
    "#This will convert 200 minutes to hours by diving by 60\n",
    "\n",
    "x=200\n",
    "y=60\n",
    "x/y"
   ]
  },
  {
   "cell_type": "markdown",
   "id": "ddeef23e",
   "metadata": {},
   "source": [
    "## Auther\n",
    "Muhammad Shurahbeel Bin Sajid"
   ]
  },
  {
   "cell_type": "code",
   "execution_count": null,
   "id": "3b26d324",
   "metadata": {},
   "outputs": [],
   "source": []
  }
 ],
 "metadata": {
  "kernelspec": {
   "display_name": "Python 3 (ipykernel)",
   "language": "python",
   "name": "python3"
  },
  "language_info": {
   "codemirror_mode": {
    "name": "ipython",
    "version": 3
   },
   "file_extension": ".py",
   "mimetype": "text/x-python",
   "name": "python",
   "nbconvert_exporter": "python",
   "pygments_lexer": "ipython3",
   "version": "3.10.9"
  }
 },
 "nbformat": 4,
 "nbformat_minor": 5
}
