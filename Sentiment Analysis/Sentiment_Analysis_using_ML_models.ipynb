{
  "cells": [
    {
      "cell_type": "markdown",
      "metadata": {
        "id": "PwdHQGp8MID7"
      },
      "source": [
        "# Sentiment Analysis using ML models\n"
      ]
    },
    {
      "cell_type": "markdown",
      "metadata": {
        "id": "w1VXQlb9vBLu"
      },
      "source": [
        "##Uploading Dataset"
      ]
    },
    {
      "cell_type": "code",
      "execution_count": 2,
      "metadata": {
        "id": "4BQtOjnQu-aK"
      },
      "outputs": [],
      "source": [
        "import numpy as np\n",
        "import pandas as pd\n",
        "df=pd.read_csv(r\"C:\\Users\\shura\\Downloads\\Sentiment Analysis\\BA_AirlineReviews.csv\")"
      ]
    },
    {
      "cell_type": "markdown",
      "metadata": {
        "id": "-5Bf4HwuDMaw"
      },
      "source": [
        "##Reading and Exploring Dataset"
      ]
    },
    {
      "cell_type": "code",
      "execution_count": 3,
      "metadata": {
        "colab": {
          "base_uri": "https://localhost:8080/",
          "height": 1000
        },
        "id": "ow4-nOUPvOin",
        "outputId": "9448d3e3-1bee-4dd7-ad4f-df3f3d111c97"
      },
      "outputs": [
        {
          "data": {
            "text/html": [
              "<div>\n",
              "<style scoped>\n",
              "    .dataframe tbody tr th:only-of-type {\n",
              "        vertical-align: middle;\n",
              "    }\n",
              "\n",
              "    .dataframe tbody tr th {\n",
              "        vertical-align: top;\n",
              "    }\n",
              "\n",
              "    .dataframe thead th {\n",
              "        text-align: right;\n",
              "    }\n",
              "</style>\n",
              "<table border=\"1\" class=\"dataframe\">\n",
              "  <thead>\n",
              "    <tr style=\"text-align: right;\">\n",
              "      <th></th>\n",
              "      <th>Unnamed: 0</th>\n",
              "      <th>OverallRating</th>\n",
              "      <th>ReviewHeader</th>\n",
              "      <th>Name</th>\n",
              "      <th>Datetime</th>\n",
              "      <th>VerifiedReview</th>\n",
              "      <th>ReviewBody</th>\n",
              "      <th>TypeOfTraveller</th>\n",
              "      <th>SeatType</th>\n",
              "      <th>Route</th>\n",
              "      <th>DateFlown</th>\n",
              "      <th>SeatComfort</th>\n",
              "      <th>CabinStaffService</th>\n",
              "      <th>GroundService</th>\n",
              "      <th>ValueForMoney</th>\n",
              "      <th>Recommended</th>\n",
              "      <th>Aircraft</th>\n",
              "      <th>Food&amp;Beverages</th>\n",
              "      <th>InflightEntertainment</th>\n",
              "      <th>Wifi&amp;Connectivity</th>\n",
              "    </tr>\n",
              "  </thead>\n",
              "  <tbody>\n",
              "    <tr>\n",
              "      <th>0</th>\n",
              "      <td>0</td>\n",
              "      <td>1.0</td>\n",
              "      <td>\"Service level far worse then Ryanair\"</td>\n",
              "      <td>L Keele</td>\n",
              "      <td>19th November 2023</td>\n",
              "      <td>True</td>\n",
              "      <td>4 Hours before takeoff we received a Mail stat...</td>\n",
              "      <td>Couple Leisure</td>\n",
              "      <td>Economy Class</td>\n",
              "      <td>London to Stuttgart</td>\n",
              "      <td>November 2023</td>\n",
              "      <td>1.0</td>\n",
              "      <td>1.0</td>\n",
              "      <td>1.0</td>\n",
              "      <td>1.0</td>\n",
              "      <td>no</td>\n",
              "      <td>NaN</td>\n",
              "      <td>NaN</td>\n",
              "      <td>NaN</td>\n",
              "      <td>NaN</td>\n",
              "    </tr>\n",
              "    <tr>\n",
              "      <th>1</th>\n",
              "      <td>1</td>\n",
              "      <td>3.0</td>\n",
              "      <td>\"do not upgrade members based on status\"</td>\n",
              "      <td>Austin Jones</td>\n",
              "      <td>19th November 2023</td>\n",
              "      <td>True</td>\n",
              "      <td>I recently had a delay on British Airways from...</td>\n",
              "      <td>Business</td>\n",
              "      <td>Economy Class</td>\n",
              "      <td>Brussels to London</td>\n",
              "      <td>November 2023</td>\n",
              "      <td>2.0</td>\n",
              "      <td>3.0</td>\n",
              "      <td>1.0</td>\n",
              "      <td>2.0</td>\n",
              "      <td>no</td>\n",
              "      <td>A320</td>\n",
              "      <td>1.0</td>\n",
              "      <td>2.0</td>\n",
              "      <td>2.0</td>\n",
              "    </tr>\n",
              "    <tr>\n",
              "      <th>2</th>\n",
              "      <td>2</td>\n",
              "      <td>8.0</td>\n",
              "      <td>\"Flight was smooth and quick\"</td>\n",
              "      <td>M A Collie</td>\n",
              "      <td>16th November 2023</td>\n",
              "      <td>False</td>\n",
              "      <td>Boarded on time, but it took ages to get to th...</td>\n",
              "      <td>Couple Leisure</td>\n",
              "      <td>Business Class</td>\n",
              "      <td>London Heathrow to Dublin</td>\n",
              "      <td>November 2023</td>\n",
              "      <td>3.0</td>\n",
              "      <td>3.0</td>\n",
              "      <td>4.0</td>\n",
              "      <td>3.0</td>\n",
              "      <td>yes</td>\n",
              "      <td>A320</td>\n",
              "      <td>4.0</td>\n",
              "      <td>NaN</td>\n",
              "      <td>NaN</td>\n",
              "    </tr>\n",
              "    <tr>\n",
              "      <th>3</th>\n",
              "      <td>3</td>\n",
              "      <td>1.0</td>\n",
              "      <td>\"Absolutely hopeless airline\"</td>\n",
              "      <td>Nigel Dean</td>\n",
              "      <td>16th November 2023</td>\n",
              "      <td>True</td>\n",
              "      <td>5 days before the flight, we were advised by B...</td>\n",
              "      <td>Couple Leisure</td>\n",
              "      <td>Economy Class</td>\n",
              "      <td>London to Dublin</td>\n",
              "      <td>December 2022</td>\n",
              "      <td>3.0</td>\n",
              "      <td>3.0</td>\n",
              "      <td>1.0</td>\n",
              "      <td>1.0</td>\n",
              "      <td>no</td>\n",
              "      <td>NaN</td>\n",
              "      <td>NaN</td>\n",
              "      <td>NaN</td>\n",
              "      <td>NaN</td>\n",
              "    </tr>\n",
              "    <tr>\n",
              "      <th>4</th>\n",
              "      <td>4</td>\n",
              "      <td>1.0</td>\n",
              "      <td>\"Customer Service is non existent\"</td>\n",
              "      <td>Gaylynne Simpson</td>\n",
              "      <td>14th November 2023</td>\n",
              "      <td>False</td>\n",
              "      <td>We traveled to Lisbon for our dream vacation, ...</td>\n",
              "      <td>Couple Leisure</td>\n",
              "      <td>Economy Class</td>\n",
              "      <td>London to Lisbon</td>\n",
              "      <td>November 2023</td>\n",
              "      <td>1.0</td>\n",
              "      <td>1.0</td>\n",
              "      <td>1.0</td>\n",
              "      <td>1.0</td>\n",
              "      <td>no</td>\n",
              "      <td>NaN</td>\n",
              "      <td>1.0</td>\n",
              "      <td>1.0</td>\n",
              "      <td>1.0</td>\n",
              "    </tr>\n",
              "    <tr>\n",
              "      <th>...</th>\n",
              "      <td>...</td>\n",
              "      <td>...</td>\n",
              "      <td>...</td>\n",
              "      <td>...</td>\n",
              "      <td>...</td>\n",
              "      <td>...</td>\n",
              "      <td>...</td>\n",
              "      <td>...</td>\n",
              "      <td>...</td>\n",
              "      <td>...</td>\n",
              "      <td>...</td>\n",
              "      <td>...</td>\n",
              "      <td>...</td>\n",
              "      <td>...</td>\n",
              "      <td>...</td>\n",
              "      <td>...</td>\n",
              "      <td>...</td>\n",
              "      <td>...</td>\n",
              "      <td>...</td>\n",
              "      <td>...</td>\n",
              "    </tr>\n",
              "    <tr>\n",
              "      <th>3696</th>\n",
              "      <td>3696</td>\n",
              "      <td>1.0</td>\n",
              "      <td>British Airways customer review</td>\n",
              "      <td>J Robertson</td>\n",
              "      <td>29th August 2012</td>\n",
              "      <td>False</td>\n",
              "      <td>This was a bmi Regional operated flight on a R...</td>\n",
              "      <td>NaN</td>\n",
              "      <td>Economy Class</td>\n",
              "      <td>NaN</td>\n",
              "      <td>NaN</td>\n",
              "      <td>3.0</td>\n",
              "      <td>1.0</td>\n",
              "      <td>NaN</td>\n",
              "      <td>3.0</td>\n",
              "      <td>no</td>\n",
              "      <td>NaN</td>\n",
              "      <td>2.0</td>\n",
              "      <td>NaN</td>\n",
              "      <td>NaN</td>\n",
              "    </tr>\n",
              "    <tr>\n",
              "      <th>3697</th>\n",
              "      <td>3697</td>\n",
              "      <td>9.0</td>\n",
              "      <td>British Airways customer review</td>\n",
              "      <td>Nick Berry</td>\n",
              "      <td>28th August 2012</td>\n",
              "      <td>False</td>\n",
              "      <td>LHR to HAM. Purser addresses all club passenge...</td>\n",
              "      <td>NaN</td>\n",
              "      <td>Business Class</td>\n",
              "      <td>NaN</td>\n",
              "      <td>NaN</td>\n",
              "      <td>4.0</td>\n",
              "      <td>5.0</td>\n",
              "      <td>NaN</td>\n",
              "      <td>3.0</td>\n",
              "      <td>yes</td>\n",
              "      <td>NaN</td>\n",
              "      <td>4.0</td>\n",
              "      <td>NaN</td>\n",
              "      <td>NaN</td>\n",
              "    </tr>\n",
              "    <tr>\n",
              "      <th>3698</th>\n",
              "      <td>3698</td>\n",
              "      <td>5.0</td>\n",
              "      <td>British Airways customer review</td>\n",
              "      <td>Avril Barclay</td>\n",
              "      <td>12th October 2011</td>\n",
              "      <td>False</td>\n",
              "      <td>My son who had worked for British Airways urge...</td>\n",
              "      <td>NaN</td>\n",
              "      <td>Economy Class</td>\n",
              "      <td>NaN</td>\n",
              "      <td>NaN</td>\n",
              "      <td>NaN</td>\n",
              "      <td>NaN</td>\n",
              "      <td>NaN</td>\n",
              "      <td>4.0</td>\n",
              "      <td>yes</td>\n",
              "      <td>NaN</td>\n",
              "      <td>NaN</td>\n",
              "      <td>NaN</td>\n",
              "      <td>NaN</td>\n",
              "    </tr>\n",
              "    <tr>\n",
              "      <th>3699</th>\n",
              "      <td>3699</td>\n",
              "      <td>4.0</td>\n",
              "      <td>British Airways customer review</td>\n",
              "      <td>C Volz</td>\n",
              "      <td>11th October 2011</td>\n",
              "      <td>False</td>\n",
              "      <td>London City-New York JFK via Shannon on A318 b...</td>\n",
              "      <td>NaN</td>\n",
              "      <td>Premium Economy</td>\n",
              "      <td>NaN</td>\n",
              "      <td>NaN</td>\n",
              "      <td>1.0</td>\n",
              "      <td>3.0</td>\n",
              "      <td>NaN</td>\n",
              "      <td>1.0</td>\n",
              "      <td>no</td>\n",
              "      <td>NaN</td>\n",
              "      <td>5.0</td>\n",
              "      <td>NaN</td>\n",
              "      <td>NaN</td>\n",
              "    </tr>\n",
              "    <tr>\n",
              "      <th>3700</th>\n",
              "      <td>3700</td>\n",
              "      <td>4.0</td>\n",
              "      <td>British Airways customer review</td>\n",
              "      <td>Russ King</td>\n",
              "      <td>9th October 2011</td>\n",
              "      <td>False</td>\n",
              "      <td>SIN-LHR BA12 B747-436 First Class. Old aircraf...</td>\n",
              "      <td>NaN</td>\n",
              "      <td>First Class</td>\n",
              "      <td>NaN</td>\n",
              "      <td>NaN</td>\n",
              "      <td>4.0</td>\n",
              "      <td>5.0</td>\n",
              "      <td>NaN</td>\n",
              "      <td>2.0</td>\n",
              "      <td>no</td>\n",
              "      <td>NaN</td>\n",
              "      <td>5.0</td>\n",
              "      <td>2.0</td>\n",
              "      <td>NaN</td>\n",
              "    </tr>\n",
              "  </tbody>\n",
              "</table>\n",
              "<p>3701 rows × 20 columns</p>\n",
              "</div>"
            ],
            "text/plain": [
              "      Unnamed: 0  OverallRating                              ReviewHeader  \\\n",
              "0              0            1.0    \"Service level far worse then Ryanair\"   \n",
              "1              1            3.0  \"do not upgrade members based on status\"   \n",
              "2              2            8.0             \"Flight was smooth and quick\"   \n",
              "3              3            1.0             \"Absolutely hopeless airline\"   \n",
              "4              4            1.0        \"Customer Service is non existent\"   \n",
              "...          ...            ...                                       ...   \n",
              "3696        3696            1.0           British Airways customer review   \n",
              "3697        3697            9.0           British Airways customer review   \n",
              "3698        3698            5.0           British Airways customer review   \n",
              "3699        3699            4.0           British Airways customer review   \n",
              "3700        3700            4.0           British Airways customer review   \n",
              "\n",
              "                  Name            Datetime  VerifiedReview  \\\n",
              "0              L Keele  19th November 2023            True   \n",
              "1         Austin Jones  19th November 2023            True   \n",
              "2           M A Collie  16th November 2023           False   \n",
              "3           Nigel Dean  16th November 2023            True   \n",
              "4     Gaylynne Simpson  14th November 2023           False   \n",
              "...                ...                 ...             ...   \n",
              "3696       J Robertson    29th August 2012           False   \n",
              "3697        Nick Berry    28th August 2012           False   \n",
              "3698     Avril Barclay   12th October 2011           False   \n",
              "3699            C Volz   11th October 2011           False   \n",
              "3700         Russ King    9th October 2011           False   \n",
              "\n",
              "                                             ReviewBody TypeOfTraveller  \\\n",
              "0     4 Hours before takeoff we received a Mail stat...  Couple Leisure   \n",
              "1     I recently had a delay on British Airways from...        Business   \n",
              "2     Boarded on time, but it took ages to get to th...  Couple Leisure   \n",
              "3     5 days before the flight, we were advised by B...  Couple Leisure   \n",
              "4     We traveled to Lisbon for our dream vacation, ...  Couple Leisure   \n",
              "...                                                 ...             ...   \n",
              "3696  This was a bmi Regional operated flight on a R...             NaN   \n",
              "3697  LHR to HAM. Purser addresses all club passenge...             NaN   \n",
              "3698  My son who had worked for British Airways urge...             NaN   \n",
              "3699  London City-New York JFK via Shannon on A318 b...             NaN   \n",
              "3700  SIN-LHR BA12 B747-436 First Class. Old aircraf...             NaN   \n",
              "\n",
              "             SeatType                      Route      DateFlown  SeatComfort  \\\n",
              "0       Economy Class        London to Stuttgart  November 2023          1.0   \n",
              "1       Economy Class         Brussels to London  November 2023          2.0   \n",
              "2      Business Class  London Heathrow to Dublin  November 2023          3.0   \n",
              "3       Economy Class           London to Dublin  December 2022          3.0   \n",
              "4       Economy Class           London to Lisbon  November 2023          1.0   \n",
              "...               ...                        ...            ...          ...   \n",
              "3696    Economy Class                        NaN            NaN          3.0   \n",
              "3697   Business Class                        NaN            NaN          4.0   \n",
              "3698    Economy Class                        NaN            NaN          NaN   \n",
              "3699  Premium Economy                        NaN            NaN          1.0   \n",
              "3700      First Class                        NaN            NaN          4.0   \n",
              "\n",
              "      CabinStaffService  GroundService  ValueForMoney Recommended Aircraft  \\\n",
              "0                   1.0            1.0            1.0          no      NaN   \n",
              "1                   3.0            1.0            2.0          no     A320   \n",
              "2                   3.0            4.0            3.0         yes     A320   \n",
              "3                   3.0            1.0            1.0          no      NaN   \n",
              "4                   1.0            1.0            1.0          no      NaN   \n",
              "...                 ...            ...            ...         ...      ...   \n",
              "3696                1.0            NaN            3.0          no      NaN   \n",
              "3697                5.0            NaN            3.0         yes      NaN   \n",
              "3698                NaN            NaN            4.0         yes      NaN   \n",
              "3699                3.0            NaN            1.0          no      NaN   \n",
              "3700                5.0            NaN            2.0          no      NaN   \n",
              "\n",
              "      Food&Beverages  InflightEntertainment  Wifi&Connectivity  \n",
              "0                NaN                    NaN                NaN  \n",
              "1                1.0                    2.0                2.0  \n",
              "2                4.0                    NaN                NaN  \n",
              "3                NaN                    NaN                NaN  \n",
              "4                1.0                    1.0                1.0  \n",
              "...              ...                    ...                ...  \n",
              "3696             2.0                    NaN                NaN  \n",
              "3697             4.0                    NaN                NaN  \n",
              "3698             NaN                    NaN                NaN  \n",
              "3699             5.0                    NaN                NaN  \n",
              "3700             5.0                    2.0                NaN  \n",
              "\n",
              "[3701 rows x 20 columns]"
            ]
          },
          "execution_count": 3,
          "metadata": {},
          "output_type": "execute_result"
        }
      ],
      "source": [
        "df #print the dataset"
      ]
    },
    {
      "cell_type": "code",
      "execution_count": 4,
      "metadata": {
        "colab": {
          "base_uri": "https://localhost:8080/",
          "height": 590
        },
        "id": "TjCoou5-DcTH",
        "outputId": "a2dabc60-1afa-44ac-8ba6-9217bd21e8b5"
      },
      "outputs": [
        {
          "data": {
            "text/html": [
              "<div>\n",
              "<style scoped>\n",
              "    .dataframe tbody tr th:only-of-type {\n",
              "        vertical-align: middle;\n",
              "    }\n",
              "\n",
              "    .dataframe tbody tr th {\n",
              "        vertical-align: top;\n",
              "    }\n",
              "\n",
              "    .dataframe thead th {\n",
              "        text-align: right;\n",
              "    }\n",
              "</style>\n",
              "<table border=\"1\" class=\"dataframe\">\n",
              "  <thead>\n",
              "    <tr style=\"text-align: right;\">\n",
              "      <th></th>\n",
              "      <th>Unnamed: 0</th>\n",
              "      <th>OverallRating</th>\n",
              "      <th>ReviewHeader</th>\n",
              "      <th>Name</th>\n",
              "      <th>Datetime</th>\n",
              "      <th>VerifiedReview</th>\n",
              "      <th>ReviewBody</th>\n",
              "      <th>TypeOfTraveller</th>\n",
              "      <th>SeatType</th>\n",
              "      <th>Route</th>\n",
              "      <th>DateFlown</th>\n",
              "      <th>SeatComfort</th>\n",
              "      <th>CabinStaffService</th>\n",
              "      <th>GroundService</th>\n",
              "      <th>ValueForMoney</th>\n",
              "      <th>Recommended</th>\n",
              "      <th>Aircraft</th>\n",
              "      <th>Food&amp;Beverages</th>\n",
              "      <th>InflightEntertainment</th>\n",
              "      <th>Wifi&amp;Connectivity</th>\n",
              "    </tr>\n",
              "  </thead>\n",
              "  <tbody>\n",
              "    <tr>\n",
              "      <th>0</th>\n",
              "      <td>0</td>\n",
              "      <td>1.0</td>\n",
              "      <td>\"Service level far worse then Ryanair\"</td>\n",
              "      <td>L Keele</td>\n",
              "      <td>19th November 2023</td>\n",
              "      <td>True</td>\n",
              "      <td>4 Hours before takeoff we received a Mail stat...</td>\n",
              "      <td>Couple Leisure</td>\n",
              "      <td>Economy Class</td>\n",
              "      <td>London to Stuttgart</td>\n",
              "      <td>November 2023</td>\n",
              "      <td>1.0</td>\n",
              "      <td>1.0</td>\n",
              "      <td>1.0</td>\n",
              "      <td>1.0</td>\n",
              "      <td>no</td>\n",
              "      <td>NaN</td>\n",
              "      <td>NaN</td>\n",
              "      <td>NaN</td>\n",
              "      <td>NaN</td>\n",
              "    </tr>\n",
              "    <tr>\n",
              "      <th>1</th>\n",
              "      <td>1</td>\n",
              "      <td>3.0</td>\n",
              "      <td>\"do not upgrade members based on status\"</td>\n",
              "      <td>Austin Jones</td>\n",
              "      <td>19th November 2023</td>\n",
              "      <td>True</td>\n",
              "      <td>I recently had a delay on British Airways from...</td>\n",
              "      <td>Business</td>\n",
              "      <td>Economy Class</td>\n",
              "      <td>Brussels to London</td>\n",
              "      <td>November 2023</td>\n",
              "      <td>2.0</td>\n",
              "      <td>3.0</td>\n",
              "      <td>1.0</td>\n",
              "      <td>2.0</td>\n",
              "      <td>no</td>\n",
              "      <td>A320</td>\n",
              "      <td>1.0</td>\n",
              "      <td>2.0</td>\n",
              "      <td>2.0</td>\n",
              "    </tr>\n",
              "    <tr>\n",
              "      <th>2</th>\n",
              "      <td>2</td>\n",
              "      <td>8.0</td>\n",
              "      <td>\"Flight was smooth and quick\"</td>\n",
              "      <td>M A Collie</td>\n",
              "      <td>16th November 2023</td>\n",
              "      <td>False</td>\n",
              "      <td>Boarded on time, but it took ages to get to th...</td>\n",
              "      <td>Couple Leisure</td>\n",
              "      <td>Business Class</td>\n",
              "      <td>London Heathrow to Dublin</td>\n",
              "      <td>November 2023</td>\n",
              "      <td>3.0</td>\n",
              "      <td>3.0</td>\n",
              "      <td>4.0</td>\n",
              "      <td>3.0</td>\n",
              "      <td>yes</td>\n",
              "      <td>A320</td>\n",
              "      <td>4.0</td>\n",
              "      <td>NaN</td>\n",
              "      <td>NaN</td>\n",
              "    </tr>\n",
              "    <tr>\n",
              "      <th>3</th>\n",
              "      <td>3</td>\n",
              "      <td>1.0</td>\n",
              "      <td>\"Absolutely hopeless airline\"</td>\n",
              "      <td>Nigel Dean</td>\n",
              "      <td>16th November 2023</td>\n",
              "      <td>True</td>\n",
              "      <td>5 days before the flight, we were advised by B...</td>\n",
              "      <td>Couple Leisure</td>\n",
              "      <td>Economy Class</td>\n",
              "      <td>London to Dublin</td>\n",
              "      <td>December 2022</td>\n",
              "      <td>3.0</td>\n",
              "      <td>3.0</td>\n",
              "      <td>1.0</td>\n",
              "      <td>1.0</td>\n",
              "      <td>no</td>\n",
              "      <td>NaN</td>\n",
              "      <td>NaN</td>\n",
              "      <td>NaN</td>\n",
              "      <td>NaN</td>\n",
              "    </tr>\n",
              "    <tr>\n",
              "      <th>4</th>\n",
              "      <td>4</td>\n",
              "      <td>1.0</td>\n",
              "      <td>\"Customer Service is non existent\"</td>\n",
              "      <td>Gaylynne Simpson</td>\n",
              "      <td>14th November 2023</td>\n",
              "      <td>False</td>\n",
              "      <td>We traveled to Lisbon for our dream vacation, ...</td>\n",
              "      <td>Couple Leisure</td>\n",
              "      <td>Economy Class</td>\n",
              "      <td>London to Lisbon</td>\n",
              "      <td>November 2023</td>\n",
              "      <td>1.0</td>\n",
              "      <td>1.0</td>\n",
              "      <td>1.0</td>\n",
              "      <td>1.0</td>\n",
              "      <td>no</td>\n",
              "      <td>NaN</td>\n",
              "      <td>1.0</td>\n",
              "      <td>1.0</td>\n",
              "      <td>1.0</td>\n",
              "    </tr>\n",
              "  </tbody>\n",
              "</table>\n",
              "</div>"
            ],
            "text/plain": [
              "   Unnamed: 0  OverallRating                              ReviewHeader  \\\n",
              "0           0            1.0    \"Service level far worse then Ryanair\"   \n",
              "1           1            3.0  \"do not upgrade members based on status\"   \n",
              "2           2            8.0             \"Flight was smooth and quick\"   \n",
              "3           3            1.0             \"Absolutely hopeless airline\"   \n",
              "4           4            1.0        \"Customer Service is non existent\"   \n",
              "\n",
              "               Name            Datetime  VerifiedReview  \\\n",
              "0           L Keele  19th November 2023            True   \n",
              "1      Austin Jones  19th November 2023            True   \n",
              "2        M A Collie  16th November 2023           False   \n",
              "3        Nigel Dean  16th November 2023            True   \n",
              "4  Gaylynne Simpson  14th November 2023           False   \n",
              "\n",
              "                                          ReviewBody TypeOfTraveller  \\\n",
              "0  4 Hours before takeoff we received a Mail stat...  Couple Leisure   \n",
              "1  I recently had a delay on British Airways from...        Business   \n",
              "2  Boarded on time, but it took ages to get to th...  Couple Leisure   \n",
              "3  5 days before the flight, we were advised by B...  Couple Leisure   \n",
              "4  We traveled to Lisbon for our dream vacation, ...  Couple Leisure   \n",
              "\n",
              "         SeatType                      Route      DateFlown  SeatComfort  \\\n",
              "0   Economy Class        London to Stuttgart  November 2023          1.0   \n",
              "1   Economy Class         Brussels to London  November 2023          2.0   \n",
              "2  Business Class  London Heathrow to Dublin  November 2023          3.0   \n",
              "3   Economy Class           London to Dublin  December 2022          3.0   \n",
              "4   Economy Class           London to Lisbon  November 2023          1.0   \n",
              "\n",
              "   CabinStaffService  GroundService  ValueForMoney Recommended Aircraft  \\\n",
              "0                1.0            1.0            1.0          no      NaN   \n",
              "1                3.0            1.0            2.0          no     A320   \n",
              "2                3.0            4.0            3.0         yes     A320   \n",
              "3                3.0            1.0            1.0          no      NaN   \n",
              "4                1.0            1.0            1.0          no      NaN   \n",
              "\n",
              "   Food&Beverages  InflightEntertainment  Wifi&Connectivity  \n",
              "0             NaN                    NaN                NaN  \n",
              "1             1.0                    2.0                2.0  \n",
              "2             4.0                    NaN                NaN  \n",
              "3             NaN                    NaN                NaN  \n",
              "4             1.0                    1.0                1.0  "
            ]
          },
          "execution_count": 4,
          "metadata": {},
          "output_type": "execute_result"
        }
      ],
      "source": [
        "df.head() #first five rows"
      ]
    },
    {
      "cell_type": "code",
      "execution_count": 5,
      "metadata": {
        "colab": {
          "base_uri": "https://localhost:8080/"
        },
        "id": "BP5l2ytkDgFM",
        "outputId": "897e2702-df22-42b1-864a-baff838212ca"
      },
      "outputs": [
        {
          "data": {
            "text/plain": [
              "(3701, 20)"
            ]
          },
          "execution_count": 5,
          "metadata": {},
          "output_type": "execute_result"
        }
      ],
      "source": [
        "df.shape #dimensions"
      ]
    },
    {
      "cell_type": "code",
      "execution_count": 6,
      "metadata": {
        "colab": {
          "base_uri": "https://localhost:8080/",
          "height": 642
        },
        "id": "6nC9y-mxDnO0",
        "outputId": "7f089330-dbd2-4dfb-8adf-271dfaf40662"
      },
      "outputs": [
        {
          "data": {
            "text/html": [
              "<div>\n",
              "<style scoped>\n",
              "    .dataframe tbody tr th:only-of-type {\n",
              "        vertical-align: middle;\n",
              "    }\n",
              "\n",
              "    .dataframe tbody tr th {\n",
              "        vertical-align: top;\n",
              "    }\n",
              "\n",
              "    .dataframe thead th {\n",
              "        text-align: right;\n",
              "    }\n",
              "</style>\n",
              "<table border=\"1\" class=\"dataframe\">\n",
              "  <thead>\n",
              "    <tr style=\"text-align: right;\">\n",
              "      <th></th>\n",
              "      <th>Unnamed: 0</th>\n",
              "      <th>OverallRating</th>\n",
              "      <th>ReviewHeader</th>\n",
              "      <th>Name</th>\n",
              "      <th>Datetime</th>\n",
              "      <th>VerifiedReview</th>\n",
              "      <th>ReviewBody</th>\n",
              "      <th>TypeOfTraveller</th>\n",
              "      <th>SeatType</th>\n",
              "      <th>Route</th>\n",
              "      <th>DateFlown</th>\n",
              "      <th>SeatComfort</th>\n",
              "      <th>CabinStaffService</th>\n",
              "      <th>GroundService</th>\n",
              "      <th>ValueForMoney</th>\n",
              "      <th>Recommended</th>\n",
              "      <th>Aircraft</th>\n",
              "      <th>Food&amp;Beverages</th>\n",
              "      <th>InflightEntertainment</th>\n",
              "      <th>Wifi&amp;Connectivity</th>\n",
              "    </tr>\n",
              "  </thead>\n",
              "  <tbody>\n",
              "    <tr>\n",
              "      <th>3696</th>\n",
              "      <td>3696</td>\n",
              "      <td>1.0</td>\n",
              "      <td>British Airways customer review</td>\n",
              "      <td>J Robertson</td>\n",
              "      <td>29th August 2012</td>\n",
              "      <td>False</td>\n",
              "      <td>This was a bmi Regional operated flight on a R...</td>\n",
              "      <td>NaN</td>\n",
              "      <td>Economy Class</td>\n",
              "      <td>NaN</td>\n",
              "      <td>NaN</td>\n",
              "      <td>3.0</td>\n",
              "      <td>1.0</td>\n",
              "      <td>NaN</td>\n",
              "      <td>3.0</td>\n",
              "      <td>no</td>\n",
              "      <td>NaN</td>\n",
              "      <td>2.0</td>\n",
              "      <td>NaN</td>\n",
              "      <td>NaN</td>\n",
              "    </tr>\n",
              "    <tr>\n",
              "      <th>3697</th>\n",
              "      <td>3697</td>\n",
              "      <td>9.0</td>\n",
              "      <td>British Airways customer review</td>\n",
              "      <td>Nick Berry</td>\n",
              "      <td>28th August 2012</td>\n",
              "      <td>False</td>\n",
              "      <td>LHR to HAM. Purser addresses all club passenge...</td>\n",
              "      <td>NaN</td>\n",
              "      <td>Business Class</td>\n",
              "      <td>NaN</td>\n",
              "      <td>NaN</td>\n",
              "      <td>4.0</td>\n",
              "      <td>5.0</td>\n",
              "      <td>NaN</td>\n",
              "      <td>3.0</td>\n",
              "      <td>yes</td>\n",
              "      <td>NaN</td>\n",
              "      <td>4.0</td>\n",
              "      <td>NaN</td>\n",
              "      <td>NaN</td>\n",
              "    </tr>\n",
              "    <tr>\n",
              "      <th>3698</th>\n",
              "      <td>3698</td>\n",
              "      <td>5.0</td>\n",
              "      <td>British Airways customer review</td>\n",
              "      <td>Avril Barclay</td>\n",
              "      <td>12th October 2011</td>\n",
              "      <td>False</td>\n",
              "      <td>My son who had worked for British Airways urge...</td>\n",
              "      <td>NaN</td>\n",
              "      <td>Economy Class</td>\n",
              "      <td>NaN</td>\n",
              "      <td>NaN</td>\n",
              "      <td>NaN</td>\n",
              "      <td>NaN</td>\n",
              "      <td>NaN</td>\n",
              "      <td>4.0</td>\n",
              "      <td>yes</td>\n",
              "      <td>NaN</td>\n",
              "      <td>NaN</td>\n",
              "      <td>NaN</td>\n",
              "      <td>NaN</td>\n",
              "    </tr>\n",
              "    <tr>\n",
              "      <th>3699</th>\n",
              "      <td>3699</td>\n",
              "      <td>4.0</td>\n",
              "      <td>British Airways customer review</td>\n",
              "      <td>C Volz</td>\n",
              "      <td>11th October 2011</td>\n",
              "      <td>False</td>\n",
              "      <td>London City-New York JFK via Shannon on A318 b...</td>\n",
              "      <td>NaN</td>\n",
              "      <td>Premium Economy</td>\n",
              "      <td>NaN</td>\n",
              "      <td>NaN</td>\n",
              "      <td>1.0</td>\n",
              "      <td>3.0</td>\n",
              "      <td>NaN</td>\n",
              "      <td>1.0</td>\n",
              "      <td>no</td>\n",
              "      <td>NaN</td>\n",
              "      <td>5.0</td>\n",
              "      <td>NaN</td>\n",
              "      <td>NaN</td>\n",
              "    </tr>\n",
              "    <tr>\n",
              "      <th>3700</th>\n",
              "      <td>3700</td>\n",
              "      <td>4.0</td>\n",
              "      <td>British Airways customer review</td>\n",
              "      <td>Russ King</td>\n",
              "      <td>9th October 2011</td>\n",
              "      <td>False</td>\n",
              "      <td>SIN-LHR BA12 B747-436 First Class. Old aircraf...</td>\n",
              "      <td>NaN</td>\n",
              "      <td>First Class</td>\n",
              "      <td>NaN</td>\n",
              "      <td>NaN</td>\n",
              "      <td>4.0</td>\n",
              "      <td>5.0</td>\n",
              "      <td>NaN</td>\n",
              "      <td>2.0</td>\n",
              "      <td>no</td>\n",
              "      <td>NaN</td>\n",
              "      <td>5.0</td>\n",
              "      <td>2.0</td>\n",
              "      <td>NaN</td>\n",
              "    </tr>\n",
              "  </tbody>\n",
              "</table>\n",
              "</div>"
            ],
            "text/plain": [
              "      Unnamed: 0  OverallRating                     ReviewHeader  \\\n",
              "3696        3696            1.0  British Airways customer review   \n",
              "3697        3697            9.0  British Airways customer review   \n",
              "3698        3698            5.0  British Airways customer review   \n",
              "3699        3699            4.0  British Airways customer review   \n",
              "3700        3700            4.0  British Airways customer review   \n",
              "\n",
              "               Name           Datetime  VerifiedReview  \\\n",
              "3696    J Robertson   29th August 2012           False   \n",
              "3697     Nick Berry   28th August 2012           False   \n",
              "3698  Avril Barclay  12th October 2011           False   \n",
              "3699         C Volz  11th October 2011           False   \n",
              "3700      Russ King   9th October 2011           False   \n",
              "\n",
              "                                             ReviewBody TypeOfTraveller  \\\n",
              "3696  This was a bmi Regional operated flight on a R...             NaN   \n",
              "3697  LHR to HAM. Purser addresses all club passenge...             NaN   \n",
              "3698  My son who had worked for British Airways urge...             NaN   \n",
              "3699  London City-New York JFK via Shannon on A318 b...             NaN   \n",
              "3700  SIN-LHR BA12 B747-436 First Class. Old aircraf...             NaN   \n",
              "\n",
              "             SeatType Route DateFlown  SeatComfort  CabinStaffService  \\\n",
              "3696    Economy Class   NaN       NaN          3.0                1.0   \n",
              "3697   Business Class   NaN       NaN          4.0                5.0   \n",
              "3698    Economy Class   NaN       NaN          NaN                NaN   \n",
              "3699  Premium Economy   NaN       NaN          1.0                3.0   \n",
              "3700      First Class   NaN       NaN          4.0                5.0   \n",
              "\n",
              "      GroundService  ValueForMoney Recommended Aircraft  Food&Beverages  \\\n",
              "3696            NaN            3.0          no      NaN             2.0   \n",
              "3697            NaN            3.0         yes      NaN             4.0   \n",
              "3698            NaN            4.0         yes      NaN             NaN   \n",
              "3699            NaN            1.0          no      NaN             5.0   \n",
              "3700            NaN            2.0          no      NaN             5.0   \n",
              "\n",
              "      InflightEntertainment  Wifi&Connectivity  \n",
              "3696                    NaN                NaN  \n",
              "3697                    NaN                NaN  \n",
              "3698                    NaN                NaN  \n",
              "3699                    NaN                NaN  \n",
              "3700                    2.0                NaN  "
            ]
          },
          "execution_count": 6,
          "metadata": {},
          "output_type": "execute_result"
        }
      ],
      "source": [
        "df.tail() #Last five rows"
      ]
    },
    {
      "cell_type": "code",
      "execution_count": 7,
      "metadata": {
        "colab": {
          "base_uri": "https://localhost:8080/",
          "height": 320
        },
        "id": "Ao45p9_JUmUQ",
        "outputId": "a4aa752a-b1ed-4214-b438-9bcbefe47a8e"
      },
      "outputs": [
        {
          "data": {
            "text/html": [
              "<div>\n",
              "<style scoped>\n",
              "    .dataframe tbody tr th:only-of-type {\n",
              "        vertical-align: middle;\n",
              "    }\n",
              "\n",
              "    .dataframe tbody tr th {\n",
              "        vertical-align: top;\n",
              "    }\n",
              "\n",
              "    .dataframe thead th {\n",
              "        text-align: right;\n",
              "    }\n",
              "</style>\n",
              "<table border=\"1\" class=\"dataframe\">\n",
              "  <thead>\n",
              "    <tr style=\"text-align: right;\">\n",
              "      <th></th>\n",
              "      <th>Unnamed: 0</th>\n",
              "      <th>OverallRating</th>\n",
              "      <th>SeatComfort</th>\n",
              "      <th>CabinStaffService</th>\n",
              "      <th>GroundService</th>\n",
              "      <th>ValueForMoney</th>\n",
              "      <th>Food&amp;Beverages</th>\n",
              "      <th>InflightEntertainment</th>\n",
              "      <th>Wifi&amp;Connectivity</th>\n",
              "    </tr>\n",
              "  </thead>\n",
              "  <tbody>\n",
              "    <tr>\n",
              "      <th>count</th>\n",
              "      <td>3701.000000</td>\n",
              "      <td>3696.000000</td>\n",
              "      <td>3585.000000</td>\n",
              "      <td>3574.000000</td>\n",
              "      <td>2855.000000</td>\n",
              "      <td>3700.000000</td>\n",
              "      <td>3315.000000</td>\n",
              "      <td>2551.000000</td>\n",
              "      <td>609.000000</td>\n",
              "    </tr>\n",
              "    <tr>\n",
              "      <th>mean</th>\n",
              "      <td>1850.000000</td>\n",
              "      <td>4.734307</td>\n",
              "      <td>2.875314</td>\n",
              "      <td>3.254057</td>\n",
              "      <td>2.784238</td>\n",
              "      <td>2.688378</td>\n",
              "      <td>2.713122</td>\n",
              "      <td>2.646021</td>\n",
              "      <td>1.924466</td>\n",
              "    </tr>\n",
              "    <tr>\n",
              "      <th>std</th>\n",
              "      <td>1068.531001</td>\n",
              "      <td>3.175306</td>\n",
              "      <td>1.362081</td>\n",
              "      <td>1.489709</td>\n",
              "      <td>1.457058</td>\n",
              "      <td>1.471887</td>\n",
              "      <td>1.437092</td>\n",
              "      <td>1.398509</td>\n",
              "      <td>1.352705</td>\n",
              "    </tr>\n",
              "    <tr>\n",
              "      <th>min</th>\n",
              "      <td>0.000000</td>\n",
              "      <td>1.000000</td>\n",
              "      <td>1.000000</td>\n",
              "      <td>1.000000</td>\n",
              "      <td>1.000000</td>\n",
              "      <td>1.000000</td>\n",
              "      <td>1.000000</td>\n",
              "      <td>1.000000</td>\n",
              "      <td>1.000000</td>\n",
              "    </tr>\n",
              "    <tr>\n",
              "      <th>25%</th>\n",
              "      <td>925.000000</td>\n",
              "      <td>2.000000</td>\n",
              "      <td>2.000000</td>\n",
              "      <td>2.000000</td>\n",
              "      <td>1.000000</td>\n",
              "      <td>1.000000</td>\n",
              "      <td>1.000000</td>\n",
              "      <td>1.000000</td>\n",
              "      <td>1.000000</td>\n",
              "    </tr>\n",
              "    <tr>\n",
              "      <th>50%</th>\n",
              "      <td>1850.000000</td>\n",
              "      <td>4.000000</td>\n",
              "      <td>3.000000</td>\n",
              "      <td>3.000000</td>\n",
              "      <td>3.000000</td>\n",
              "      <td>3.000000</td>\n",
              "      <td>3.000000</td>\n",
              "      <td>3.000000</td>\n",
              "      <td>1.000000</td>\n",
              "    </tr>\n",
              "    <tr>\n",
              "      <th>75%</th>\n",
              "      <td>2775.000000</td>\n",
              "      <td>8.000000</td>\n",
              "      <td>4.000000</td>\n",
              "      <td>5.000000</td>\n",
              "      <td>4.000000</td>\n",
              "      <td>4.000000</td>\n",
              "      <td>4.000000</td>\n",
              "      <td>4.000000</td>\n",
              "      <td>3.000000</td>\n",
              "    </tr>\n",
              "    <tr>\n",
              "      <th>max</th>\n",
              "      <td>3700.000000</td>\n",
              "      <td>10.000000</td>\n",
              "      <td>5.000000</td>\n",
              "      <td>5.000000</td>\n",
              "      <td>5.000000</td>\n",
              "      <td>5.000000</td>\n",
              "      <td>5.000000</td>\n",
              "      <td>5.000000</td>\n",
              "      <td>5.000000</td>\n",
              "    </tr>\n",
              "  </tbody>\n",
              "</table>\n",
              "</div>"
            ],
            "text/plain": [
              "        Unnamed: 0  OverallRating  SeatComfort  CabinStaffService  \\\n",
              "count  3701.000000    3696.000000  3585.000000        3574.000000   \n",
              "mean   1850.000000       4.734307     2.875314           3.254057   \n",
              "std    1068.531001       3.175306     1.362081           1.489709   \n",
              "min       0.000000       1.000000     1.000000           1.000000   \n",
              "25%     925.000000       2.000000     2.000000           2.000000   \n",
              "50%    1850.000000       4.000000     3.000000           3.000000   \n",
              "75%    2775.000000       8.000000     4.000000           5.000000   \n",
              "max    3700.000000      10.000000     5.000000           5.000000   \n",
              "\n",
              "       GroundService  ValueForMoney  Food&Beverages  InflightEntertainment  \\\n",
              "count    2855.000000    3700.000000     3315.000000            2551.000000   \n",
              "mean        2.784238       2.688378        2.713122               2.646021   \n",
              "std         1.457058       1.471887        1.437092               1.398509   \n",
              "min         1.000000       1.000000        1.000000               1.000000   \n",
              "25%         1.000000       1.000000        1.000000               1.000000   \n",
              "50%         3.000000       3.000000        3.000000               3.000000   \n",
              "75%         4.000000       4.000000        4.000000               4.000000   \n",
              "max         5.000000       5.000000        5.000000               5.000000   \n",
              "\n",
              "       Wifi&Connectivity  \n",
              "count         609.000000  \n",
              "mean            1.924466  \n",
              "std             1.352705  \n",
              "min             1.000000  \n",
              "25%             1.000000  \n",
              "50%             1.000000  \n",
              "75%             3.000000  \n",
              "max             5.000000  "
            ]
          },
          "execution_count": 7,
          "metadata": {},
          "output_type": "execute_result"
        }
      ],
      "source": [
        "df.describe() #statistics"
      ]
    },
    {
      "cell_type": "markdown",
      "metadata": {
        "id": "9EWJsUFiMxoy"
      },
      "source": [
        "##Search for Missing Values in Numeric Columns"
      ]
    },
    {
      "cell_type": "code",
      "execution_count": 8,
      "metadata": {
        "colab": {
          "base_uri": "https://localhost:8080/"
        },
        "id": "EFJnDEv6vPuZ",
        "outputId": "da3a049e-1109-4138-b9f9-d6dd7ee39a86"
      },
      "outputs": [
        {
          "name": "stdout",
          "output_type": "stream",
          "text": [
            "\n",
            "Missing Values in Numeric Columns:\n",
            "OverallRating               5\n",
            "SeatComfort               116\n",
            "CabinStaffService         127\n",
            "GroundService             846\n",
            "ValueForMoney               1\n",
            "Food&Beverages            386\n",
            "InflightEntertainment    1150\n",
            "Wifi&Connectivity        3092\n",
            "dtype: int64\n"
          ]
        }
      ],
      "source": [
        "#Numeric column filter for correlation matrix\n",
        "numeric_df = df.select_dtypes(include=['float64', 'int64'])\n",
        "\n",
        "# Check numeric column missing values\n",
        "missing_values = numeric_df.isnull().sum()\n",
        "print(\"\\nMissing Values in Numeric Columns:\")\n",
        "print(missing_values[missing_values > 0])\n"
      ]
    },
    {
      "cell_type": "markdown",
      "metadata": {
        "id": "z2GWfdjpyRMw"
      },
      "source": [
        "##Preprocessing data"
      ]
    },
    {
      "cell_type": "markdown",
      "metadata": {
        "id": "eUAQsCAerWbO"
      },
      "source": [
        "###Removing large amount of missing values in columns (int, float, str)"
      ]
    },
    {
      "cell_type": "code",
      "execution_count": 9,
      "metadata": {
        "id": "ddiz5y9vwIf6"
      },
      "outputs": [],
      "source": [
        "df = df.drop(columns = \"GroundService\")\n",
        "df = df.drop(columns = \"InflightEntertainment\")\n",
        "df = df.drop(columns = \"Wifi&Connectivity\")\n",
        "df = df.drop(columns = \"TypeOfTraveller\")\n",
        "df = df.drop(columns = \"SeatType\")\n",
        "df = df.drop(columns = \"Route\")\n",
        "df = df.drop(columns = \"DateFlown\")\n",
        "df = df.drop(columns = \"Aircraft\")\n",
        "df = df.drop(columns = \"Unnamed: 0\")\n"
      ]
    },
    {
      "cell_type": "markdown",
      "metadata": {
        "id": "IR4_PIuIrQIJ"
      },
      "source": [
        "###Recheck the updated values (float,int)"
      ]
    },
    {
      "cell_type": "code",
      "execution_count": 10,
      "metadata": {
        "colab": {
          "base_uri": "https://localhost:8080/"
        },
        "id": "l-dnsQ9ErOdd",
        "outputId": "395f3fd2-7f52-4572-f042-8a88710bc53f"
      },
      "outputs": [
        {
          "name": "stdout",
          "output_type": "stream",
          "text": [
            "\n",
            "Missing Values in Numeric Columns:\n",
            "OverallRating          5\n",
            "SeatComfort          116\n",
            "CabinStaffService    127\n",
            "ValueForMoney          1\n",
            "Food&Beverages       386\n",
            "dtype: int64\n"
          ]
        }
      ],
      "source": [
        "#Numeric column filter for correlation matrix\n",
        "numeric_df = df.select_dtypes(include=['float64', 'int64'])\n",
        "\n",
        "# Check numeric column missing values\n",
        "missing_values = numeric_df.isnull().sum()\n",
        "print(\"\\nMissing Values in Numeric Columns:\")\n",
        "print(missing_values[missing_values > 0])"
      ]
    },
    {
      "cell_type": "markdown",
      "metadata": {
        "id": "eS1VnxAVqXSi"
      },
      "source": [
        "###Finding Mean and replacing the mean with NaN value"
      ]
    },
    {
      "cell_type": "code",
      "execution_count": 11,
      "metadata": {
        "colab": {
          "base_uri": "https://localhost:8080/"
        },
        "id": "pet4FrE-enVh",
        "outputId": "3fd203de-4bc6-4120-da54-b6ff31363756"
      },
      "outputs": [
        {
          "data": {
            "text/plain": [
              "4.734307359307359"
            ]
          },
          "execution_count": 11,
          "metadata": {},
          "output_type": "execute_result"
        }
      ],
      "source": [
        "df['OverallRating'].mean()"
      ]
    },
    {
      "cell_type": "code",
      "execution_count": 12,
      "metadata": {
        "id": "03caRHAHhmq2"
      },
      "outputs": [],
      "source": [
        "df['OverallRating'].fillna(4.73, inplace=True)"
      ]
    },
    {
      "cell_type": "code",
      "execution_count": 13,
      "metadata": {
        "colab": {
          "base_uri": "https://localhost:8080/"
        },
        "id": "Q2daRLTwh1nY",
        "outputId": "fad20fd7-efa2-4913-877e-3ff76555e4ee"
      },
      "outputs": [
        {
          "data": {
            "text/plain": [
              "2.8753138075313807"
            ]
          },
          "execution_count": 13,
          "metadata": {},
          "output_type": "execute_result"
        }
      ],
      "source": [
        "df['SeatComfort'].mean()"
      ]
    },
    {
      "cell_type": "code",
      "execution_count": 14,
      "metadata": {
        "id": "T_y98ZzIlDGc"
      },
      "outputs": [],
      "source": [
        "df['SeatComfort'].fillna(2.87, inplace=True)"
      ]
    },
    {
      "cell_type": "code",
      "execution_count": 15,
      "metadata": {
        "colab": {
          "base_uri": "https://localhost:8080/"
        },
        "id": "Ufg2q1lVlJRJ",
        "outputId": "995b831c-f441-4619-ace3-eb3e5df71b04"
      },
      "outputs": [
        {
          "data": {
            "text/plain": [
              "3.2540570789031897"
            ]
          },
          "execution_count": 15,
          "metadata": {},
          "output_type": "execute_result"
        }
      ],
      "source": [
        "df['CabinStaffService'].mean()"
      ]
    },
    {
      "cell_type": "code",
      "execution_count": 16,
      "metadata": {
        "id": "mST8E9iUl28s"
      },
      "outputs": [],
      "source": [
        "df['CabinStaffService'].fillna(3.25, inplace=True)"
      ]
    },
    {
      "cell_type": "code",
      "execution_count": 17,
      "metadata": {
        "id": "7CErF7sol9Xm"
      },
      "outputs": [],
      "source": [
        "df['ValueForMoney'].fillna(1, inplace=True)"
      ]
    },
    {
      "cell_type": "code",
      "execution_count": 18,
      "metadata": {
        "colab": {
          "base_uri": "https://localhost:8080/"
        },
        "id": "k6u_Y-A6mSRH",
        "outputId": "e8502b59-49bd-492d-83cb-1353b0662510"
      },
      "outputs": [
        {
          "data": {
            "text/plain": [
              "2.7131221719457015"
            ]
          },
          "execution_count": 18,
          "metadata": {},
          "output_type": "execute_result"
        }
      ],
      "source": [
        "df['Food&Beverages'].mean()"
      ]
    },
    {
      "cell_type": "code",
      "execution_count": 19,
      "metadata": {
        "id": "THMwhEBMmj3b"
      },
      "outputs": [],
      "source": [
        "df['Food&Beverages'].fillna(2.71, inplace=True)"
      ]
    },
    {
      "cell_type": "markdown",
      "metadata": {
        "id": "O7F7Lw40qfNc"
      },
      "source": [
        "###Recheck the data"
      ]
    },
    {
      "cell_type": "markdown",
      "metadata": {
        "id": "d_CZT5mErWVy"
      },
      "source": [
        "Specific Column wise"
      ]
    },
    {
      "cell_type": "code",
      "execution_count": 20,
      "metadata": {
        "colab": {
          "base_uri": "https://localhost:8080/",
          "height": 109
        },
        "id": "cGY6F2IErMoc",
        "outputId": "73f51da7-15b4-4eba-bddd-fdc8084ca11b"
      },
      "outputs": [
        {
          "data": {
            "text/html": [
              "<div>\n",
              "<style scoped>\n",
              "    .dataframe tbody tr th:only-of-type {\n",
              "        vertical-align: middle;\n",
              "    }\n",
              "\n",
              "    .dataframe tbody tr th {\n",
              "        vertical-align: top;\n",
              "    }\n",
              "\n",
              "    .dataframe thead th {\n",
              "        text-align: right;\n",
              "    }\n",
              "</style>\n",
              "<table border=\"1\" class=\"dataframe\">\n",
              "  <thead>\n",
              "    <tr style=\"text-align: right;\">\n",
              "      <th></th>\n",
              "      <th>OverallRating</th>\n",
              "      <th>ReviewHeader</th>\n",
              "      <th>Name</th>\n",
              "      <th>Datetime</th>\n",
              "      <th>VerifiedReview</th>\n",
              "      <th>ReviewBody</th>\n",
              "      <th>SeatComfort</th>\n",
              "      <th>CabinStaffService</th>\n",
              "      <th>ValueForMoney</th>\n",
              "      <th>Recommended</th>\n",
              "      <th>Food&amp;Beverages</th>\n",
              "    </tr>\n",
              "  </thead>\n",
              "  <tbody>\n",
              "  </tbody>\n",
              "</table>\n",
              "</div>"
            ],
            "text/plain": [
              "Empty DataFrame\n",
              "Columns: [OverallRating, ReviewHeader, Name, Datetime, VerifiedReview, ReviewBody, SeatComfort, CabinStaffService, ValueForMoney, Recommended, Food&Beverages]\n",
              "Index: []"
            ]
          },
          "execution_count": 20,
          "metadata": {},
          "output_type": "execute_result"
        }
      ],
      "source": [
        "missing_values = df[df['OverallRating'].isnull()] #Replace OverallRating with any column name to check for null values\n",
        "missing_values"
      ]
    },
    {
      "cell_type": "code",
      "execution_count": 21,
      "metadata": {
        "colab": {
          "base_uri": "https://localhost:8080/"
        },
        "id": "92q61reGmyB4",
        "outputId": "f6460593-ceae-4ef7-efe1-77422bcf9152"
      },
      "outputs": [
        {
          "data": {
            "text/plain": [
              "OverallRating        0\n",
              "ReviewHeader         0\n",
              "Name                 0\n",
              "Datetime             0\n",
              "VerifiedReview       0\n",
              "ReviewBody           0\n",
              "SeatComfort          0\n",
              "CabinStaffService    0\n",
              "ValueForMoney        0\n",
              "Recommended          0\n",
              "Food&Beverages       0\n",
              "dtype: int64"
            ]
          },
          "execution_count": 21,
          "metadata": {},
          "output_type": "execute_result"
        }
      ],
      "source": [
        "# Check all column's null values together\n",
        "df.isnull().sum()"
      ]
    },
    {
      "cell_type": "markdown",
      "metadata": {
        "id": "zY54b3UWrCzH"
      },
      "source": [
        "###Show Updated Dataset"
      ]
    },
    {
      "cell_type": "code",
      "execution_count": 22,
      "metadata": {
        "colab": {
          "base_uri": "https://localhost:8080/",
          "height": 1000
        },
        "id": "j6lq31T_pExU",
        "outputId": "aac95aba-9fb4-4e7f-cd76-deaa13815a2b"
      },
      "outputs": [
        {
          "data": {
            "text/html": [
              "<div>\n",
              "<style scoped>\n",
              "    .dataframe tbody tr th:only-of-type {\n",
              "        vertical-align: middle;\n",
              "    }\n",
              "\n",
              "    .dataframe tbody tr th {\n",
              "        vertical-align: top;\n",
              "    }\n",
              "\n",
              "    .dataframe thead th {\n",
              "        text-align: right;\n",
              "    }\n",
              "</style>\n",
              "<table border=\"1\" class=\"dataframe\">\n",
              "  <thead>\n",
              "    <tr style=\"text-align: right;\">\n",
              "      <th></th>\n",
              "      <th>OverallRating</th>\n",
              "      <th>ReviewHeader</th>\n",
              "      <th>Name</th>\n",
              "      <th>Datetime</th>\n",
              "      <th>VerifiedReview</th>\n",
              "      <th>ReviewBody</th>\n",
              "      <th>SeatComfort</th>\n",
              "      <th>CabinStaffService</th>\n",
              "      <th>ValueForMoney</th>\n",
              "      <th>Recommended</th>\n",
              "      <th>Food&amp;Beverages</th>\n",
              "    </tr>\n",
              "  </thead>\n",
              "  <tbody>\n",
              "    <tr>\n",
              "      <th>0</th>\n",
              "      <td>1.0</td>\n",
              "      <td>\"Service level far worse then Ryanair\"</td>\n",
              "      <td>L Keele</td>\n",
              "      <td>19th November 2023</td>\n",
              "      <td>True</td>\n",
              "      <td>4 Hours before takeoff we received a Mail stat...</td>\n",
              "      <td>1.00</td>\n",
              "      <td>1.00</td>\n",
              "      <td>1.0</td>\n",
              "      <td>no</td>\n",
              "      <td>2.71</td>\n",
              "    </tr>\n",
              "    <tr>\n",
              "      <th>1</th>\n",
              "      <td>3.0</td>\n",
              "      <td>\"do not upgrade members based on status\"</td>\n",
              "      <td>Austin Jones</td>\n",
              "      <td>19th November 2023</td>\n",
              "      <td>True</td>\n",
              "      <td>I recently had a delay on British Airways from...</td>\n",
              "      <td>2.00</td>\n",
              "      <td>3.00</td>\n",
              "      <td>2.0</td>\n",
              "      <td>no</td>\n",
              "      <td>1.00</td>\n",
              "    </tr>\n",
              "    <tr>\n",
              "      <th>2</th>\n",
              "      <td>8.0</td>\n",
              "      <td>\"Flight was smooth and quick\"</td>\n",
              "      <td>M A Collie</td>\n",
              "      <td>16th November 2023</td>\n",
              "      <td>False</td>\n",
              "      <td>Boarded on time, but it took ages to get to th...</td>\n",
              "      <td>3.00</td>\n",
              "      <td>3.00</td>\n",
              "      <td>3.0</td>\n",
              "      <td>yes</td>\n",
              "      <td>4.00</td>\n",
              "    </tr>\n",
              "    <tr>\n",
              "      <th>3</th>\n",
              "      <td>1.0</td>\n",
              "      <td>\"Absolutely hopeless airline\"</td>\n",
              "      <td>Nigel Dean</td>\n",
              "      <td>16th November 2023</td>\n",
              "      <td>True</td>\n",
              "      <td>5 days before the flight, we were advised by B...</td>\n",
              "      <td>3.00</td>\n",
              "      <td>3.00</td>\n",
              "      <td>1.0</td>\n",
              "      <td>no</td>\n",
              "      <td>2.71</td>\n",
              "    </tr>\n",
              "    <tr>\n",
              "      <th>4</th>\n",
              "      <td>1.0</td>\n",
              "      <td>\"Customer Service is non existent\"</td>\n",
              "      <td>Gaylynne Simpson</td>\n",
              "      <td>14th November 2023</td>\n",
              "      <td>False</td>\n",
              "      <td>We traveled to Lisbon for our dream vacation, ...</td>\n",
              "      <td>1.00</td>\n",
              "      <td>1.00</td>\n",
              "      <td>1.0</td>\n",
              "      <td>no</td>\n",
              "      <td>1.00</td>\n",
              "    </tr>\n",
              "    <tr>\n",
              "      <th>...</th>\n",
              "      <td>...</td>\n",
              "      <td>...</td>\n",
              "      <td>...</td>\n",
              "      <td>...</td>\n",
              "      <td>...</td>\n",
              "      <td>...</td>\n",
              "      <td>...</td>\n",
              "      <td>...</td>\n",
              "      <td>...</td>\n",
              "      <td>...</td>\n",
              "      <td>...</td>\n",
              "    </tr>\n",
              "    <tr>\n",
              "      <th>3696</th>\n",
              "      <td>1.0</td>\n",
              "      <td>British Airways customer review</td>\n",
              "      <td>J Robertson</td>\n",
              "      <td>29th August 2012</td>\n",
              "      <td>False</td>\n",
              "      <td>This was a bmi Regional operated flight on a R...</td>\n",
              "      <td>3.00</td>\n",
              "      <td>1.00</td>\n",
              "      <td>3.0</td>\n",
              "      <td>no</td>\n",
              "      <td>2.00</td>\n",
              "    </tr>\n",
              "    <tr>\n",
              "      <th>3697</th>\n",
              "      <td>9.0</td>\n",
              "      <td>British Airways customer review</td>\n",
              "      <td>Nick Berry</td>\n",
              "      <td>28th August 2012</td>\n",
              "      <td>False</td>\n",
              "      <td>LHR to HAM. Purser addresses all club passenge...</td>\n",
              "      <td>4.00</td>\n",
              "      <td>5.00</td>\n",
              "      <td>3.0</td>\n",
              "      <td>yes</td>\n",
              "      <td>4.00</td>\n",
              "    </tr>\n",
              "    <tr>\n",
              "      <th>3698</th>\n",
              "      <td>5.0</td>\n",
              "      <td>British Airways customer review</td>\n",
              "      <td>Avril Barclay</td>\n",
              "      <td>12th October 2011</td>\n",
              "      <td>False</td>\n",
              "      <td>My son who had worked for British Airways urge...</td>\n",
              "      <td>2.87</td>\n",
              "      <td>3.25</td>\n",
              "      <td>4.0</td>\n",
              "      <td>yes</td>\n",
              "      <td>2.71</td>\n",
              "    </tr>\n",
              "    <tr>\n",
              "      <th>3699</th>\n",
              "      <td>4.0</td>\n",
              "      <td>British Airways customer review</td>\n",
              "      <td>C Volz</td>\n",
              "      <td>11th October 2011</td>\n",
              "      <td>False</td>\n",
              "      <td>London City-New York JFK via Shannon on A318 b...</td>\n",
              "      <td>1.00</td>\n",
              "      <td>3.00</td>\n",
              "      <td>1.0</td>\n",
              "      <td>no</td>\n",
              "      <td>5.00</td>\n",
              "    </tr>\n",
              "    <tr>\n",
              "      <th>3700</th>\n",
              "      <td>4.0</td>\n",
              "      <td>British Airways customer review</td>\n",
              "      <td>Russ King</td>\n",
              "      <td>9th October 2011</td>\n",
              "      <td>False</td>\n",
              "      <td>SIN-LHR BA12 B747-436 First Class. Old aircraf...</td>\n",
              "      <td>4.00</td>\n",
              "      <td>5.00</td>\n",
              "      <td>2.0</td>\n",
              "      <td>no</td>\n",
              "      <td>5.00</td>\n",
              "    </tr>\n",
              "  </tbody>\n",
              "</table>\n",
              "<p>3701 rows × 11 columns</p>\n",
              "</div>"
            ],
            "text/plain": [
              "      OverallRating                              ReviewHeader  \\\n",
              "0               1.0    \"Service level far worse then Ryanair\"   \n",
              "1               3.0  \"do not upgrade members based on status\"   \n",
              "2               8.0             \"Flight was smooth and quick\"   \n",
              "3               1.0             \"Absolutely hopeless airline\"   \n",
              "4               1.0        \"Customer Service is non existent\"   \n",
              "...             ...                                       ...   \n",
              "3696            1.0           British Airways customer review   \n",
              "3697            9.0           British Airways customer review   \n",
              "3698            5.0           British Airways customer review   \n",
              "3699            4.0           British Airways customer review   \n",
              "3700            4.0           British Airways customer review   \n",
              "\n",
              "                  Name            Datetime  VerifiedReview  \\\n",
              "0              L Keele  19th November 2023            True   \n",
              "1         Austin Jones  19th November 2023            True   \n",
              "2           M A Collie  16th November 2023           False   \n",
              "3           Nigel Dean  16th November 2023            True   \n",
              "4     Gaylynne Simpson  14th November 2023           False   \n",
              "...                ...                 ...             ...   \n",
              "3696       J Robertson    29th August 2012           False   \n",
              "3697        Nick Berry    28th August 2012           False   \n",
              "3698     Avril Barclay   12th October 2011           False   \n",
              "3699            C Volz   11th October 2011           False   \n",
              "3700         Russ King    9th October 2011           False   \n",
              "\n",
              "                                             ReviewBody  SeatComfort  \\\n",
              "0     4 Hours before takeoff we received a Mail stat...         1.00   \n",
              "1     I recently had a delay on British Airways from...         2.00   \n",
              "2     Boarded on time, but it took ages to get to th...         3.00   \n",
              "3     5 days before the flight, we were advised by B...         3.00   \n",
              "4     We traveled to Lisbon for our dream vacation, ...         1.00   \n",
              "...                                                 ...          ...   \n",
              "3696  This was a bmi Regional operated flight on a R...         3.00   \n",
              "3697  LHR to HAM. Purser addresses all club passenge...         4.00   \n",
              "3698  My son who had worked for British Airways urge...         2.87   \n",
              "3699  London City-New York JFK via Shannon on A318 b...         1.00   \n",
              "3700  SIN-LHR BA12 B747-436 First Class. Old aircraf...         4.00   \n",
              "\n",
              "      CabinStaffService  ValueForMoney Recommended  Food&Beverages  \n",
              "0                  1.00            1.0          no            2.71  \n",
              "1                  3.00            2.0          no            1.00  \n",
              "2                  3.00            3.0         yes            4.00  \n",
              "3                  3.00            1.0          no            2.71  \n",
              "4                  1.00            1.0          no            1.00  \n",
              "...                 ...            ...         ...             ...  \n",
              "3696               1.00            3.0          no            2.00  \n",
              "3697               5.00            3.0         yes            4.00  \n",
              "3698               3.25            4.0         yes            2.71  \n",
              "3699               3.00            1.0          no            5.00  \n",
              "3700               5.00            2.0          no            5.00  \n",
              "\n",
              "[3701 rows x 11 columns]"
            ]
          },
          "execution_count": 22,
          "metadata": {},
          "output_type": "execute_result"
        }
      ],
      "source": [
        "df"
      ]
    },
    {
      "cell_type": "markdown",
      "metadata": {
        "id": "LJIVPwCKPzQL"
      },
      "source": [
        "## Performing Sentiment Analysis with TextBlob"
      ]
    },
    {
      "cell_type": "code",
      "execution_count": 23,
      "metadata": {
        "id": "vH8SqVU2P1Zy"
      },
      "outputs": [],
      "source": [
        "from textblob import TextBlob\n",
        "\n",
        "def analyze_sentiment(text):\n",
        "    analysis = TextBlob(text)\n",
        "    # Assign sentiment labels\n",
        "    if analysis.sentiment.polarity > 0:\n",
        "        return 'positive'\n",
        "    elif analysis.sentiment.polarity == 0:\n",
        "        return 'neutral'\n",
        "    else:\n",
        "        return 'negative'\n"
      ]
    },
    {
      "cell_type": "markdown",
      "metadata": {
        "id": "0w0Opzf-QQgC"
      },
      "source": [
        "### Apply sentiment analysis and create a new 'Sentiment' column in the DataFrame"
      ]
    },
    {
      "cell_type": "code",
      "execution_count": 24,
      "metadata": {
        "id": "inOXrLA5QafK"
      },
      "outputs": [],
      "source": [
        "df['Sentiment'] = df['ReviewBody'].apply(analyze_sentiment)"
      ]
    },
    {
      "cell_type": "markdown",
      "metadata": {
        "id": "p6_sHdO-Qm3v"
      },
      "source": [
        "##Display updated dataset"
      ]
    },
    {
      "cell_type": "code",
      "execution_count": 25,
      "metadata": {
        "colab": {
          "base_uri": "https://localhost:8080/"
        },
        "id": "WGwriluhQrIM",
        "outputId": "3e456799-334e-44f8-9133-4f51d1089a37"
      },
      "outputs": [
        {
          "name": "stdout",
          "output_type": "stream",
          "text": [
            "   OverallRating                              ReviewHeader              Name  \\\n",
            "0            1.0    \"Service level far worse then Ryanair\"           L Keele   \n",
            "1            3.0  \"do not upgrade members based on status\"      Austin Jones   \n",
            "2            8.0             \"Flight was smooth and quick\"        M A Collie   \n",
            "3            1.0             \"Absolutely hopeless airline\"        Nigel Dean   \n",
            "4            1.0        \"Customer Service is non existent\"  Gaylynne Simpson   \n",
            "\n",
            "             Datetime  VerifiedReview  \\\n",
            "0  19th November 2023            True   \n",
            "1  19th November 2023            True   \n",
            "2  16th November 2023           False   \n",
            "3  16th November 2023            True   \n",
            "4  14th November 2023           False   \n",
            "\n",
            "                                          ReviewBody  SeatComfort  \\\n",
            "0  4 Hours before takeoff we received a Mail stat...          1.0   \n",
            "1  I recently had a delay on British Airways from...          2.0   \n",
            "2  Boarded on time, but it took ages to get to th...          3.0   \n",
            "3  5 days before the flight, we were advised by B...          3.0   \n",
            "4  We traveled to Lisbon for our dream vacation, ...          1.0   \n",
            "\n",
            "   CabinStaffService  ValueForMoney Recommended  Food&Beverages Sentiment  \n",
            "0                1.0            1.0          no            2.71  negative  \n",
            "1                3.0            2.0          no            1.00  positive  \n",
            "2                3.0            3.0         yes            4.00  positive  \n",
            "3                3.0            1.0          no            2.71  positive  \n",
            "4                1.0            1.0          no            1.00  negative  \n"
          ]
        }
      ],
      "source": [
        "print(df.head())"
      ]
    },
    {
      "cell_type": "markdown",
      "metadata": {
        "id": "HJ9xJJEa0T-D"
      },
      "source": [
        "##Import SVM, test split, pipeline, and Sklearn library"
      ]
    },
    {
      "cell_type": "code",
      "execution_count": 26,
      "metadata": {
        "id": "_vfchXnAx4-0"
      },
      "outputs": [],
      "source": [
        "from sklearn.feature_extraction.text import TfidfVectorizer\n",
        "from sklearn.svm import SVC\n",
        "from sklearn.pipeline import Pipeline\n",
        "import pandas as pd\n",
        "from sklearn.model_selection import train_test_split\n",
        "\n",
        "def sentiment_analysis_model(X_train, y_train, X_test, vectorizer_params=None, model_params=None):\n",
        "    # Use defaults if not specified\n",
        "    vectorizer_params = vectorizer_params or {}\n",
        "    model_params = model_params or {}\n",
        "\n",
        "    # Create a pipeline\n",
        "    model = Pipeline([\n",
        "        ('vectorizer', TfidfVectorizer(**vectorizer_params)),\n",
        "        ('classifier', SVC(**model_params))\n",
        "    ])\n",
        "\n",
        "    # Train the model\n",
        "    model.fit(X_train, y_train)\n",
        "\n",
        "    # Make predictions\n",
        "    y_pred = model.predict(X_test)\n",
        "\n",
        "    # Create a pandas Series with predictions\n",
        "    predictions = pd.Series(y_pred, index=X_test.index)\n",
        "\n",
        "    return predictions\n",
        "\n",
        "X_train, X_test, y_train, y_test = train_test_split(df['ReviewBody'], df['Recommended'], test_size=0.2, random_state=50)\n",
        "y_pred_sentiment = sentiment_analysis_model(X_train, y_train, X_test)\n",
        "results_df = pd.DataFrame({'ReviewBody': X_test, 'Recommended': y_test, 'PredictedSentiment': y_pred_sentiment})\n",
        "\n",
        "\n"
      ]
    },
    {
      "cell_type": "markdown",
      "metadata": {
        "id": "ScWRFzSg3GL4"
      },
      "source": [
        "### Running the trained analysis"
      ]
    },
    {
      "cell_type": "code",
      "execution_count": 27,
      "metadata": {
        "colab": {
          "base_uri": "https://localhost:8080/"
        },
        "id": "BUmiCA_a0Apr",
        "outputId": "da868bbb-8269-4372-bb1a-9c1a3dc2214c"
      },
      "outputs": [
        {
          "name": "stdout",
          "output_type": "stream",
          "text": [
            "1637     no\n",
            "1667     no\n",
            "2929    yes\n",
            "1338    yes\n",
            "696      no\n",
            "       ... \n",
            "1457    yes\n",
            "1350    yes\n",
            "2326     no\n",
            "1191     no\n",
            "1123    yes\n",
            "Length: 741, dtype: object\n"
          ]
        }
      ],
      "source": [
        "predictions = sentiment_analysis_model(X_train, y_train, X_test, vectorizer_params={}, model_params={'C': 1.0, 'kernel': 'linear', 'gamma': 'auto'})\n",
        "print(predictions)"
      ]
    },
    {
      "cell_type": "markdown",
      "metadata": {
        "id": "9PgL0r_64trS"
      },
      "source": [
        "###Printing Results"
      ]
    },
    {
      "cell_type": "code",
      "execution_count": 28,
      "metadata": {
        "colab": {
          "base_uri": "https://localhost:8080/",
          "height": 423
        },
        "id": "A-cSuoZI3JyM",
        "outputId": "8c625431-acc3-42c4-aac8-1aac93eb5584"
      },
      "outputs": [
        {
          "data": {
            "text/html": [
              "<div>\n",
              "<style scoped>\n",
              "    .dataframe tbody tr th:only-of-type {\n",
              "        vertical-align: middle;\n",
              "    }\n",
              "\n",
              "    .dataframe tbody tr th {\n",
              "        vertical-align: top;\n",
              "    }\n",
              "\n",
              "    .dataframe thead th {\n",
              "        text-align: right;\n",
              "    }\n",
              "</style>\n",
              "<table border=\"1\" class=\"dataframe\">\n",
              "  <thead>\n",
              "    <tr style=\"text-align: right;\">\n",
              "      <th></th>\n",
              "      <th>ReviewBody</th>\n",
              "      <th>Recommended</th>\n",
              "      <th>PredictedSentiment</th>\n",
              "    </tr>\n",
              "  </thead>\n",
              "  <tbody>\n",
              "    <tr>\n",
              "      <th>1637</th>\n",
              "      <td>London Heathrow to Bilbao. I fly British Airwa...</td>\n",
              "      <td>no</td>\n",
              "      <td>no</td>\n",
              "    </tr>\n",
              "    <tr>\n",
              "      <th>1667</th>\n",
              "      <td>These are words you may not read often, but I ...</td>\n",
              "      <td>no</td>\n",
              "      <td>no</td>\n",
              "    </tr>\n",
              "    <tr>\n",
              "      <th>2929</th>\n",
              "      <td>Club World from LHR-ORD. Busy flight on the ag...</td>\n",
              "      <td>yes</td>\n",
              "      <td>yes</td>\n",
              "    </tr>\n",
              "    <tr>\n",
              "      <th>1338</th>\n",
              "      <td>Hong Kong to London before Christmas in First ...</td>\n",
              "      <td>yes</td>\n",
              "      <td>yes</td>\n",
              "    </tr>\n",
              "    <tr>\n",
              "      <th>696</th>\n",
              "      <td>London to Mauritius. We are fortunate enough t...</td>\n",
              "      <td>no</td>\n",
              "      <td>no</td>\n",
              "    </tr>\n",
              "    <tr>\n",
              "      <th>...</th>\n",
              "      <td>...</td>\n",
              "      <td>...</td>\n",
              "      <td>...</td>\n",
              "    </tr>\n",
              "    <tr>\n",
              "      <th>1457</th>\n",
              "      <td>Port of Spain to Gatwick via St. Lucia was a g...</td>\n",
              "      <td>yes</td>\n",
              "      <td>yes</td>\n",
              "    </tr>\n",
              "    <tr>\n",
              "      <th>1350</th>\n",
              "      <td>I was quite disappointed with my experience wi...</td>\n",
              "      <td>no</td>\n",
              "      <td>yes</td>\n",
              "    </tr>\n",
              "    <tr>\n",
              "      <th>2326</th>\n",
              "      <td>Riyadh to Dusseldorf via Heathrow with British...</td>\n",
              "      <td>no</td>\n",
              "      <td>no</td>\n",
              "    </tr>\n",
              "    <tr>\n",
              "      <th>1191</th>\n",
              "      <td>When I checked in the evening before for the 7...</td>\n",
              "      <td>no</td>\n",
              "      <td>no</td>\n",
              "    </tr>\n",
              "    <tr>\n",
              "      <th>1123</th>\n",
              "      <td>New York to Nairobi via London. Flight Attenda...</td>\n",
              "      <td>no</td>\n",
              "      <td>no</td>\n",
              "    </tr>\n",
              "  </tbody>\n",
              "</table>\n",
              "<p>741 rows × 3 columns</p>\n",
              "</div>"
            ],
            "text/plain": [
              "                                             ReviewBody Recommended  \\\n",
              "1637  London Heathrow to Bilbao. I fly British Airwa...          no   \n",
              "1667  These are words you may not read often, but I ...          no   \n",
              "2929  Club World from LHR-ORD. Busy flight on the ag...         yes   \n",
              "1338  Hong Kong to London before Christmas in First ...         yes   \n",
              "696   London to Mauritius. We are fortunate enough t...          no   \n",
              "...                                                 ...         ...   \n",
              "1457  Port of Spain to Gatwick via St. Lucia was a g...         yes   \n",
              "1350  I was quite disappointed with my experience wi...          no   \n",
              "2326  Riyadh to Dusseldorf via Heathrow with British...          no   \n",
              "1191  When I checked in the evening before for the 7...          no   \n",
              "1123  New York to Nairobi via London. Flight Attenda...          no   \n",
              "\n",
              "     PredictedSentiment  \n",
              "1637                 no  \n",
              "1667                 no  \n",
              "2929                yes  \n",
              "1338                yes  \n",
              "696                  no  \n",
              "...                 ...  \n",
              "1457                yes  \n",
              "1350                yes  \n",
              "2326                 no  \n",
              "1191                 no  \n",
              "1123                 no  \n",
              "\n",
              "[741 rows x 3 columns]"
            ]
          },
          "execution_count": 28,
          "metadata": {},
          "output_type": "execute_result"
        }
      ],
      "source": [
        "results_df"
      ]
    },
    {
      "cell_type": "markdown",
      "metadata": {
        "id": "ivom0XlI5LBJ"
      },
      "source": [
        "##Import Naive Bayes Model"
      ]
    },
    {
      "cell_type": "code",
      "execution_count": 29,
      "metadata": {
        "id": "B0pNAfVa5Qoe"
      },
      "outputs": [],
      "source": [
        "from sklearn.naive_bayes import MultinomialNB\n",
        "from sklearn.metrics import accuracy_score"
      ]
    },
    {
      "cell_type": "markdown",
      "metadata": {
        "id": "wpn1GuOu5VI9"
      },
      "source": [
        "###Training the model"
      ]
    },
    {
      "cell_type": "code",
      "execution_count": 30,
      "metadata": {
        "id": "zu-VOQPp4b8c"
      },
      "outputs": [],
      "source": [
        "def naive_bayes_model(X_train, y_train, X_test, vectorizer_params=None, model_params=None):\n",
        "    #Use defaults if not specified\n",
        "    vectorizer_params = vectorizer_params or {}\n",
        "    model_params = model_params or {}\n",
        "\n",
        "    # Create a pipeline\n",
        "    model = Pipeline([\n",
        "        ('vectorizer', TfidfVectorizer(**vectorizer_params)),\n",
        "        ('classifier', MultinomialNB(**model_params))\n",
        "    ])\n",
        "\n",
        "    # Train the model\n",
        "    model.fit(X_train, y_train)\n",
        "\n",
        "    # Make predictions\n",
        "    y_pred = model.predict(X_test)\n",
        "\n",
        "    # Create a pandas Series with predictions\n",
        "    predictions = pd.Series(y_pred, index=X_test.index)\n",
        "\n",
        "    return predictions\n",
        "\n",
        "# Example usage:\n",
        "# Assuming X_train, y_train, X_test, y_test are defined elsewhere\n",
        "y_pred_nb = naive_bayes_model(X_train, y_train, X_test, vectorizer_params={}, model_params={})\n",
        "accuracy_nb = accuracy_score(y_test, y_pred_nb)\n",
        "\n"
      ]
    },
    {
      "cell_type": "markdown",
      "metadata": {
        "id": "5HZ4kAow5krE"
      },
      "source": [
        "###Executing the model"
      ]
    },
    {
      "cell_type": "code",
      "execution_count": 31,
      "metadata": {
        "colab": {
          "base_uri": "https://localhost:8080/"
        },
        "id": "-YL_SZ885fIn",
        "outputId": "c30b33d4-002d-4aed-fcec-f095309266ad"
      },
      "outputs": [
        {
          "name": "stdout",
          "output_type": "stream",
          "text": [
            "Naive Bayes Accuracy: 0.757085020242915\n"
          ]
        }
      ],
      "source": [
        "print(f'Naive Bayes Accuracy: {accuracy_nb}')"
      ]
    },
    {
      "cell_type": "markdown",
      "metadata": {
        "id": "_6smDMkT5tqu"
      },
      "source": [
        "##Import Logistic Regression Model"
      ]
    },
    {
      "cell_type": "code",
      "execution_count": 32,
      "metadata": {
        "id": "OoLjH8C15zLD"
      },
      "outputs": [],
      "source": [
        "from sklearn.linear_model import LogisticRegression"
      ]
    },
    {
      "cell_type": "markdown",
      "metadata": {
        "id": "13koMVQ853z1"
      },
      "source": [
        "###Training the Model"
      ]
    },
    {
      "cell_type": "code",
      "execution_count": 33,
      "metadata": {
        "id": "gOT5Q76k5nV9"
      },
      "outputs": [],
      "source": [
        "def logistic_regression_model(X_train, y_train, X_test):\n",
        "    vectorizer = TfidfVectorizer()\n",
        "    X_train_vectorized = vectorizer.fit_transform(X_train)\n",
        "    X_test_vectorized = vectorizer.transform(X_test)\n",
        "\n",
        "    model = LogisticRegression()\n",
        "    model.fit(X_train_vectorized, y_train)\n",
        "    y_pred = model.predict(X_test_vectorized)\n",
        "\n",
        "    return pd.Series(y_pred, index=X_test.index)\n",
        "\n",
        "y_pred_lr = logistic_regression_model(X_train, y_train, X_test)\n",
        "accuracy_lr = accuracy_score(y_test, y_pred_lr)\n"
      ]
    },
    {
      "cell_type": "markdown",
      "metadata": {
        "id": "gLm37B7M59a3"
      },
      "source": [
        "###Executing the model"
      ]
    },
    {
      "cell_type": "code",
      "execution_count": 34,
      "metadata": {
        "colab": {
          "base_uri": "https://localhost:8080/"
        },
        "id": "9PDWxCyV6AJ6",
        "outputId": "2dc76d70-52f6-4c8b-def6-4af7fb34a213"
      },
      "outputs": [
        {
          "name": "stdout",
          "output_type": "stream",
          "text": [
            "Logistic Regression Accuracy: 0.8825910931174089\n"
          ]
        }
      ],
      "source": [
        "print(f'Logistic Regression Accuracy: {accuracy_lr}')"
      ]
    },
    {
      "cell_type": "markdown",
      "metadata": {
        "id": "VDd4TyCg6JbM"
      },
      "source": [
        "##Import SVC library"
      ]
    },
    {
      "cell_type": "code",
      "execution_count": 35,
      "metadata": {
        "id": "EZvCnRCQ6A2o"
      },
      "outputs": [],
      "source": [
        "from sklearn.svm import SVC\n",
        "from sklearn.feature_extraction.text import TfidfVectorizer"
      ]
    },
    {
      "cell_type": "markdown",
      "metadata": {
        "id": "OhTyeBfi6Uym"
      },
      "source": [
        "###Training the model"
      ]
    },
    {
      "cell_type": "code",
      "execution_count": 36,
      "metadata": {
        "id": "1DYQZBK16ULv"
      },
      "outputs": [],
      "source": [
        "def sentiment_analysis_model(X_train, y_train, X_test):\n",
        "    vectorizer = TfidfVectorizer()\n",
        "    X_train_vectorized = vectorizer.fit_transform(X_train)\n",
        "    X_test_vectorized = vectorizer.transform(X_test)\n",
        "\n",
        "    model = SVC(C=1.0, kernel='linear', gamma='auto')\n",
        "    model.fit(X_train_vectorized, y_train)\n",
        "    y_pred = model.predict(X_test_vectorized)\n",
        "\n",
        "    return pd.Series(y_pred, index=X_test.index)\n",
        "\n",
        "y_pred_svm = sentiment_analysis_model(X_train, y_train, X_test)\n",
        "accuracy_svm = accuracy_score(y_test, y_pred_svm)"
      ]
    },
    {
      "cell_type": "markdown",
      "metadata": {
        "id": "HVAIDXCWRz8O"
      },
      "source": [
        "###Executing the model"
      ]
    },
    {
      "cell_type": "code",
      "execution_count": 37,
      "metadata": {
        "colab": {
          "base_uri": "https://localhost:8080/"
        },
        "id": "IX1tsBq86YfD",
        "outputId": "6be09195-0c93-4aca-dc66-c608b0a7ad73"
      },
      "outputs": [
        {
          "name": "stdout",
          "output_type": "stream",
          "text": [
            "State Vector Machine: 0.9041835357624831\n"
          ]
        }
      ],
      "source": [
        "print(f'State Vector Machine: {accuracy_svm}')"
      ]
    },
    {
      "cell_type": "markdown",
      "metadata": {
        "id": "4XDp-ysu-Pm4"
      },
      "source": [
        "##Import sklearn.metrics for the following output:\n",
        "\n",
        "\n",
        "*   Accuracy Score\n",
        "*   Classification Report\n",
        "*   Confusion Matrix\n",
        "\n"
      ]
    },
    {
      "cell_type": "code",
      "execution_count": 38,
      "metadata": {
        "id": "ZzLTFAue8vAO"
      },
      "outputs": [],
      "source": [
        "from sklearn.metrics import accuracy_score, classification_report, confusion_matrix"
      ]
    },
    {
      "cell_type": "markdown",
      "metadata": {
        "id": "zR3ZUCLj-jL0"
      },
      "source": [
        "###SVM Accuracy, Classification, and Confusion Matrix"
      ]
    },
    {
      "cell_type": "code",
      "execution_count": 39,
      "metadata": {
        "colab": {
          "base_uri": "https://localhost:8080/"
        },
        "id": "xTNyhe6q7y0k",
        "outputId": "064453db-2df0-474f-e3ff-d214d4ed7f29"
      },
      "outputs": [
        {
          "name": "stdout",
          "output_type": "stream",
          "text": [
            "SVM Accuracy: 0.9041835357624831\n",
            "SVM Classification Report:\n",
            "               precision    recall  f1-score   support\n",
            "\n",
            "          no       0.90      0.93      0.92       426\n",
            "         yes       0.91      0.86      0.88       315\n",
            "\n",
            "    accuracy                           0.90       741\n",
            "   macro avg       0.90      0.90      0.90       741\n",
            "weighted avg       0.90      0.90      0.90       741\n",
            "\n",
            "SVM Confusion Matrix:\n",
            " [[398  28]\n",
            " [ 43 272]]\n"
          ]
        }
      ],
      "source": [
        "print(f'SVM Accuracy: {accuracy_svm}')\n",
        "print('SVM Classification Report:\\n', classification_report(y_test, y_pred_svm))\n",
        "print('SVM Confusion Matrix:\\n', confusion_matrix(y_test, y_pred_svm))"
      ]
    },
    {
      "cell_type": "markdown",
      "metadata": {
        "id": "7fR5rIHx-sGG"
      },
      "source": [
        "###Naive Bayes: Accuracy, Classification Report, and Confusion Matrix"
      ]
    },
    {
      "cell_type": "code",
      "execution_count": 40,
      "metadata": {
        "colab": {
          "base_uri": "https://localhost:8080/"
        },
        "id": "erervmnZ83hk",
        "outputId": "9909b930-0885-428f-cd69-6ba33c41d238"
      },
      "outputs": [
        {
          "name": "stdout",
          "output_type": "stream",
          "text": [
            "Naive Bayes Accuracy: 0.757085020242915\n",
            "Naive Bayes Classification Report:\n",
            "               precision    recall  f1-score   support\n",
            "\n",
            "          no       0.70      1.00      0.83       426\n",
            "         yes       0.99      0.43      0.60       315\n",
            "\n",
            "    accuracy                           0.76       741\n",
            "   macro avg       0.85      0.71      0.71       741\n",
            "weighted avg       0.83      0.76      0.73       741\n",
            "\n",
            "Naive Bayes Confusion Matrix:\n",
            " [[425   1]\n",
            " [179 136]]\n"
          ]
        }
      ],
      "source": [
        "print(f'Naive Bayes Accuracy: {accuracy_nb}')\n",
        "print('Naive Bayes Classification Report:\\n', classification_report(y_test, y_pred_nb))\n",
        "print('Naive Bayes Confusion Matrix:\\n', confusion_matrix(y_test, y_pred_nb))"
      ]
    },
    {
      "cell_type": "markdown",
      "metadata": {
        "id": "kTcuvl60Bb1O"
      },
      "source": [
        "###Logistic Regression, Classification Report, and Confusion Matrix"
      ]
    },
    {
      "cell_type": "code",
      "execution_count": 41,
      "metadata": {
        "colab": {
          "base_uri": "https://localhost:8080/"
        },
        "id": "AEvZbVSo_COD",
        "outputId": "a4a60c3b-0ed2-4401-eba1-4690a53b6c7e"
      },
      "outputs": [
        {
          "name": "stdout",
          "output_type": "stream",
          "text": [
            "Logistic Regression Accuracy: 0.8825910931174089\n",
            "Logistic Regression Classification Report:\n",
            "               precision    recall  f1-score   support\n",
            "\n",
            "          no       0.86      0.94      0.90       426\n",
            "         yes       0.91      0.80      0.85       315\n",
            "\n",
            "    accuracy                           0.88       741\n",
            "   macro avg       0.89      0.87      0.88       741\n",
            "weighted avg       0.89      0.88      0.88       741\n",
            "\n",
            "Logistic Regression Confusion Matrix:\n",
            " [[402  24]\n",
            " [ 63 252]]\n"
          ]
        }
      ],
      "source": [
        "print(f'Logistic Regression Accuracy: {accuracy_lr}')\n",
        "print('Logistic Regression Classification Report:\\n', classification_report(y_test, y_pred_lr))\n",
        "print('Logistic Regression Confusion Matrix:\\n', confusion_matrix(y_test, y_pred_lr))"
      ]
    },
    {
      "cell_type": "code",
      "execution_count": 42,
      "metadata": {
        "id": "6Y596Xwbws82"
      },
      "outputs": [],
      "source": [
        "# df.to_csv(r'D:\\file.csv', index=False)\n",
        "\n",
        "# Unccoment the above line and execute it to make a csv file in your PC/Laptop"
      ]
    }
  ],
  "metadata": {
    "colab": {
      "provenance": [],
      "toc_visible": true
    },
    "kernelspec": {
      "display_name": "Python 3",
      "name": "python3"
    },
    "language_info": {
      "codemirror_mode": {
        "name": "ipython",
        "version": 3
      },
      "file_extension": ".py",
      "mimetype": "text/x-python",
      "name": "python",
      "nbconvert_exporter": "python",
      "pygments_lexer": "ipython3",
      "version": "3.11.4"
    }
  },
  "nbformat": 4,
  "nbformat_minor": 0
}
